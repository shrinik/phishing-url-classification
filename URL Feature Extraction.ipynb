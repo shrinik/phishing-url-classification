{
 "cells": [
  {
   "cell_type": "code",
   "execution_count": 18,
   "id": "e760663b",
   "metadata": {},
   "outputs": [],
   "source": [
    "import pandas as pd"
   ]
  },
  {
   "cell_type": "code",
   "execution_count": 19,
   "id": "b86abf44",
   "metadata": {},
   "outputs": [
    {
     "data": {
      "text/html": [
       "<div>\n",
       "<style scoped>\n",
       "    .dataframe tbody tr th:only-of-type {\n",
       "        vertical-align: middle;\n",
       "    }\n",
       "\n",
       "    .dataframe tbody tr th {\n",
       "        vertical-align: top;\n",
       "    }\n",
       "\n",
       "    .dataframe thead th {\n",
       "        text-align: right;\n",
       "    }\n",
       "</style>\n",
       "<table border=\"1\" class=\"dataframe\">\n",
       "  <thead>\n",
       "    <tr style=\"text-align: right;\">\n",
       "      <th></th>\n",
       "      <th>phish_id</th>\n",
       "      <th>url</th>\n",
       "      <th>phish_detail_url</th>\n",
       "      <th>submission_time</th>\n",
       "      <th>verified</th>\n",
       "      <th>verification_time</th>\n",
       "      <th>online</th>\n",
       "      <th>target</th>\n",
       "    </tr>\n",
       "  </thead>\n",
       "  <tbody>\n",
       "    <tr>\n",
       "      <th>0</th>\n",
       "      <td>7872452</td>\n",
       "      <td>https://nqadxbt.cn/</td>\n",
       "      <td>http://www.phishtank.com/phish_detail.php?phis...</td>\n",
       "      <td>2022-10-22T06:26:45+00:00</td>\n",
       "      <td>yes</td>\n",
       "      <td>2022-10-22T06:33:45+00:00</td>\n",
       "      <td>yes</td>\n",
       "      <td>Amazon.com</td>\n",
       "    </tr>\n",
       "    <tr>\n",
       "      <th>1</th>\n",
       "      <td>7872436</td>\n",
       "      <td>http://web.ib.miizuhebunket-co-jp.cyou/client/...</td>\n",
       "      <td>http://www.phishtank.com/phish_detail.php?phis...</td>\n",
       "      <td>2022-10-22T06:14:48+00:00</td>\n",
       "      <td>yes</td>\n",
       "      <td>2022-10-22T06:22:18+00:00</td>\n",
       "      <td>yes</td>\n",
       "      <td>Other</td>\n",
       "    </tr>\n",
       "    <tr>\n",
       "      <th>2</th>\n",
       "      <td>7872435</td>\n",
       "      <td>http://web.ib.miizuhebunket-co-jp.cyou/client/...</td>\n",
       "      <td>http://www.phishtank.com/phish_detail.php?phis...</td>\n",
       "      <td>2022-10-22T06:14:31+00:00</td>\n",
       "      <td>yes</td>\n",
       "      <td>2022-10-22T06:22:18+00:00</td>\n",
       "      <td>yes</td>\n",
       "      <td>Other</td>\n",
       "    </tr>\n",
       "    <tr>\n",
       "      <th>3</th>\n",
       "      <td>7872434</td>\n",
       "      <td>https://mizihubsak.com/</td>\n",
       "      <td>http://www.phishtank.com/phish_detail.php?phis...</td>\n",
       "      <td>2022-10-22T06:14:08+00:00</td>\n",
       "      <td>yes</td>\n",
       "      <td>2022-10-22T06:22:18+00:00</td>\n",
       "      <td>yes</td>\n",
       "      <td>Other</td>\n",
       "    </tr>\n",
       "    <tr>\n",
       "      <th>4</th>\n",
       "      <td>7872433</td>\n",
       "      <td>https://web-id-miizuhabank-japan-tepihan.xyz/c...</td>\n",
       "      <td>http://www.phishtank.com/phish_detail.php?phis...</td>\n",
       "      <td>2022-10-22T06:13:45+00:00</td>\n",
       "      <td>yes</td>\n",
       "      <td>2022-10-22T06:22:18+00:00</td>\n",
       "      <td>yes</td>\n",
       "      <td>Other</td>\n",
       "    </tr>\n",
       "  </tbody>\n",
       "</table>\n",
       "</div>"
      ],
      "text/plain": [
       "   phish_id                                                url  \\\n",
       "0   7872452                                https://nqadxbt.cn/   \n",
       "1   7872436  http://web.ib.miizuhebunket-co-jp.cyou/client/...   \n",
       "2   7872435  http://web.ib.miizuhebunket-co-jp.cyou/client/...   \n",
       "3   7872434                            https://mizihubsak.com/   \n",
       "4   7872433  https://web-id-miizuhabank-japan-tepihan.xyz/c...   \n",
       "\n",
       "                                    phish_detail_url  \\\n",
       "0  http://www.phishtank.com/phish_detail.php?phis...   \n",
       "1  http://www.phishtank.com/phish_detail.php?phis...   \n",
       "2  http://www.phishtank.com/phish_detail.php?phis...   \n",
       "3  http://www.phishtank.com/phish_detail.php?phis...   \n",
       "4  http://www.phishtank.com/phish_detail.php?phis...   \n",
       "\n",
       "             submission_time verified          verification_time online  \\\n",
       "0  2022-10-22T06:26:45+00:00      yes  2022-10-22T06:33:45+00:00    yes   \n",
       "1  2022-10-22T06:14:48+00:00      yes  2022-10-22T06:22:18+00:00    yes   \n",
       "2  2022-10-22T06:14:31+00:00      yes  2022-10-22T06:22:18+00:00    yes   \n",
       "3  2022-10-22T06:14:08+00:00      yes  2022-10-22T06:22:18+00:00    yes   \n",
       "4  2022-10-22T06:13:45+00:00      yes  2022-10-22T06:22:18+00:00    yes   \n",
       "\n",
       "       target  \n",
       "0  Amazon.com  \n",
       "1       Other  \n",
       "2       Other  \n",
       "3       Other  \n",
       "4       Other  "
      ]
     },
     "execution_count": 19,
     "metadata": {},
     "output_type": "execute_result"
    }
   ],
   "source": [
    "df0 = pd.read_csv('data/phishtank.csv')\n",
    "df0.head(5)"
   ]
  },
  {
   "cell_type": "code",
   "execution_count": 20,
   "id": "30a775c5",
   "metadata": {},
   "outputs": [
    {
     "data": {
      "text/plain": [
       "(85747, 8)"
      ]
     },
     "execution_count": 20,
     "metadata": {},
     "output_type": "execute_result"
    }
   ],
   "source": [
    "df0.shape"
   ]
  },
  {
   "cell_type": "code",
   "execution_count": 25,
   "id": "8c4b2830",
   "metadata": {
    "scrolled": true
   },
   "outputs": [
    {
     "data": {
      "text/html": [
       "<div>\n",
       "<style scoped>\n",
       "    .dataframe tbody tr th:only-of-type {\n",
       "        vertical-align: middle;\n",
       "    }\n",
       "\n",
       "    .dataframe tbody tr th {\n",
       "        vertical-align: top;\n",
       "    }\n",
       "\n",
       "    .dataframe thead th {\n",
       "        text-align: right;\n",
       "    }\n",
       "</style>\n",
       "<table border=\"1\" class=\"dataframe\">\n",
       "  <thead>\n",
       "    <tr style=\"text-align: right;\">\n",
       "      <th></th>\n",
       "      <th>phish_id</th>\n",
       "      <th>url</th>\n",
       "      <th>phish_detail_url</th>\n",
       "      <th>submission_time</th>\n",
       "      <th>verified</th>\n",
       "      <th>verification_time</th>\n",
       "      <th>online</th>\n",
       "      <th>target</th>\n",
       "    </tr>\n",
       "  </thead>\n",
       "  <tbody>\n",
       "    <tr>\n",
       "      <th>0</th>\n",
       "      <td>7747743</td>\n",
       "      <td>https://ryrlxcjgls.duckdns.org/</td>\n",
       "      <td>http://www.phishtank.com/phish_detail.php?phis...</td>\n",
       "      <td>2022-09-11T22:51:27+00:00</td>\n",
       "      <td>yes</td>\n",
       "      <td>2022-09-12T00:43:37+00:00</td>\n",
       "      <td>yes</td>\n",
       "      <td>Other</td>\n",
       "    </tr>\n",
       "    <tr>\n",
       "      <th>1</th>\n",
       "      <td>7764645</td>\n",
       "      <td>http://www.viaevasvcceei.vivacsvercsaias.2fx3p...</td>\n",
       "      <td>http://www.phishtank.com/phish_detail.php?phis...</td>\n",
       "      <td>2022-09-14T13:52:20+00:00</td>\n",
       "      <td>yes</td>\n",
       "      <td>2022-09-14T15:22:17+00:00</td>\n",
       "      <td>yes</td>\n",
       "      <td>NICOS</td>\n",
       "    </tr>\n",
       "    <tr>\n",
       "      <th>2</th>\n",
       "      <td>7762525</td>\n",
       "      <td>http://www.saaicasecsesoe.sascaseoeacioras.aal...</td>\n",
       "      <td>http://www.phishtank.com/phish_detail.php?phis...</td>\n",
       "      <td>2022-09-14T08:15:41+00:00</td>\n",
       "      <td>yes</td>\n",
       "      <td>2022-09-14T08:32:34+00:00</td>\n",
       "      <td>yes</td>\n",
       "      <td>NICOS</td>\n",
       "    </tr>\n",
       "    <tr>\n",
       "      <th>3</th>\n",
       "      <td>7863722</td>\n",
       "      <td>http://www.vivcecviasai.visvsai.9qwfvb.icu/pag...</td>\n",
       "      <td>http://www.phishtank.com/phish_detail.php?phis...</td>\n",
       "      <td>2022-10-19T11:27:57+00:00</td>\n",
       "      <td>yes</td>\n",
       "      <td>2022-10-19T11:30:37+00:00</td>\n",
       "      <td>yes</td>\n",
       "      <td>NICOS</td>\n",
       "    </tr>\n",
       "    <tr>\n",
       "      <th>4</th>\n",
       "      <td>7777817</td>\n",
       "      <td>https://qbzwexoddq.duckdns.org/</td>\n",
       "      <td>http://www.phishtank.com/phish_detail.php?phis...</td>\n",
       "      <td>2022-09-17T23:21:24+00:00</td>\n",
       "      <td>yes</td>\n",
       "      <td>2022-09-18T00:06:48+00:00</td>\n",
       "      <td>yes</td>\n",
       "      <td>Other</td>\n",
       "    </tr>\n",
       "  </tbody>\n",
       "</table>\n",
       "</div>"
      ],
      "text/plain": [
       "   phish_id                                                url  \\\n",
       "0   7747743                    https://ryrlxcjgls.duckdns.org/   \n",
       "1   7764645  http://www.viaevasvcceei.vivacsvercsaias.2fx3p...   \n",
       "2   7762525  http://www.saaicasecsesoe.sascaseoeacioras.aal...   \n",
       "3   7863722  http://www.vivcecviasai.visvsai.9qwfvb.icu/pag...   \n",
       "4   7777817                    https://qbzwexoddq.duckdns.org/   \n",
       "\n",
       "                                    phish_detail_url  \\\n",
       "0  http://www.phishtank.com/phish_detail.php?phis...   \n",
       "1  http://www.phishtank.com/phish_detail.php?phis...   \n",
       "2  http://www.phishtank.com/phish_detail.php?phis...   \n",
       "3  http://www.phishtank.com/phish_detail.php?phis...   \n",
       "4  http://www.phishtank.com/phish_detail.php?phis...   \n",
       "\n",
       "             submission_time verified          verification_time online target  \n",
       "0  2022-09-11T22:51:27+00:00      yes  2022-09-12T00:43:37+00:00    yes  Other  \n",
       "1  2022-09-14T13:52:20+00:00      yes  2022-09-14T15:22:17+00:00    yes  NICOS  \n",
       "2  2022-09-14T08:15:41+00:00      yes  2022-09-14T08:32:34+00:00    yes  NICOS  \n",
       "3  2022-10-19T11:27:57+00:00      yes  2022-10-19T11:30:37+00:00    yes  NICOS  \n",
       "4  2022-09-17T23:21:24+00:00      yes  2022-09-18T00:06:48+00:00    yes  Other  "
      ]
     },
     "execution_count": 25,
     "metadata": {},
     "output_type": "execute_result"
    }
   ],
   "source": [
    "phishurl = df0.sample(n=5000, random_state = 1)\n",
    "phishurl = phishurl.reset_index(drop=True)\n",
    "phishurl.head(5)"
   ]
  },
  {
   "cell_type": "code",
   "execution_count": 26,
   "id": "853c4499",
   "metadata": {},
   "outputs": [
    {
     "data": {
      "text/plain": [
       "(5000, 8)"
      ]
     },
     "execution_count": 26,
     "metadata": {},
     "output_type": "execute_result"
    }
   ],
   "source": [
    "phishurl.shape"
   ]
  },
  {
   "cell_type": "code",
   "execution_count": null,
   "id": "64103148",
   "metadata": {},
   "outputs": [],
   "source": [
    "f0 = open(\"data/legitimate.txt\", \"r\")\n",
    "lines = f0.readlines()\n",
    "cnt = 0\n",
    "urls = []\n",
    "for line in lines:\n",
    "    words = line.split(\" \")\n",
    "    urls.append(words[0]+\",\\n\")\n",
    "    print(words[0])\n",
    "f0.close()\n",
    "print(urls[7])\n",
    "f1 = open(\"data/benign.csv\", \"w\")\n",
    "f1.writelines(urls)\n",
    "f1.close()\n"
   ]
  },
  {
   "cell_type": "code",
   "execution_count": 41,
   "id": "447d135f",
   "metadata": {},
   "outputs": [
    {
     "data": {
      "text/html": [
       "<div>\n",
       "<style scoped>\n",
       "    .dataframe tbody tr th:only-of-type {\n",
       "        vertical-align: middle;\n",
       "    }\n",
       "\n",
       "    .dataframe tbody tr th {\n",
       "        vertical-align: top;\n",
       "    }\n",
       "\n",
       "    .dataframe thead th {\n",
       "        text-align: right;\n",
       "    }\n",
       "</style>\n",
       "<table border=\"1\" class=\"dataframe\">\n",
       "  <thead>\n",
       "    <tr style=\"text-align: right;\">\n",
       "      <th></th>\n",
       "      <th>google.com</th>\n",
       "    </tr>\n",
       "  </thead>\n",
       "  <tbody>\n",
       "    <tr>\n",
       "      <th>0</th>\n",
       "      <td>facebook.com</td>\n",
       "    </tr>\n",
       "    <tr>\n",
       "      <th>1</th>\n",
       "      <td>youtube.com</td>\n",
       "    </tr>\n",
       "    <tr>\n",
       "      <th>2</th>\n",
       "      <td>baidu.com</td>\n",
       "    </tr>\n",
       "    <tr>\n",
       "      <th>3</th>\n",
       "      <td>yahoo.com</td>\n",
       "    </tr>\n",
       "    <tr>\n",
       "      <th>4</th>\n",
       "      <td>amazon.com</td>\n",
       "    </tr>\n",
       "  </tbody>\n",
       "</table>\n",
       "</div>"
      ],
      "text/plain": [
       "     google.com\n",
       "0  facebook.com\n",
       "1   youtube.com\n",
       "2     baidu.com\n",
       "3     yahoo.com\n",
       "4    amazon.com"
      ]
     },
     "execution_count": 41,
     "metadata": {},
     "output_type": "execute_result"
    }
   ],
   "source": [
    "df1 = pd.read_csv('data/benign.csv')\n",
    "df1.head(5)"
   ]
  },
  {
   "cell_type": "code",
   "execution_count": 42,
   "id": "dfb2c5a0",
   "metadata": {},
   "outputs": [
    {
     "data": {
      "text/plain": [
       "(999999, 1)"
      ]
     },
     "execution_count": 42,
     "metadata": {},
     "output_type": "execute_result"
    }
   ],
   "source": [
    "df1.shape"
   ]
  },
  {
   "cell_type": "code",
   "execution_count": 43,
   "id": "af06ea80",
   "metadata": {},
   "outputs": [
    {
     "data": {
      "text/html": [
       "<div>\n",
       "<style scoped>\n",
       "    .dataframe tbody tr th:only-of-type {\n",
       "        vertical-align: middle;\n",
       "    }\n",
       "\n",
       "    .dataframe tbody tr th {\n",
       "        vertical-align: top;\n",
       "    }\n",
       "\n",
       "    .dataframe thead th {\n",
       "        text-align: right;\n",
       "    }\n",
       "</style>\n",
       "<table border=\"1\" class=\"dataframe\">\n",
       "  <thead>\n",
       "    <tr style=\"text-align: right;\">\n",
       "      <th></th>\n",
       "      <th>google.com</th>\n",
       "    </tr>\n",
       "  </thead>\n",
       "  <tbody>\n",
       "    <tr>\n",
       "      <th>0</th>\n",
       "      <td>qntm.org</td>\n",
       "    </tr>\n",
       "    <tr>\n",
       "      <th>1</th>\n",
       "      <td>boschert.de</td>\n",
       "    </tr>\n",
       "    <tr>\n",
       "      <th>2</th>\n",
       "      <td>kelei.cc</td>\n",
       "    </tr>\n",
       "    <tr>\n",
       "      <th>3</th>\n",
       "      <td>goolsoccer.com</td>\n",
       "    </tr>\n",
       "    <tr>\n",
       "      <th>4</th>\n",
       "      <td>choosewheels.com</td>\n",
       "    </tr>\n",
       "  </tbody>\n",
       "</table>\n",
       "</div>"
      ],
      "text/plain": [
       "         google.com\n",
       "0          qntm.org\n",
       "1       boschert.de\n",
       "2          kelei.cc\n",
       "3    goolsoccer.com\n",
       "4  choosewheels.com"
      ]
     },
     "execution_count": 43,
     "metadata": {},
     "output_type": "execute_result"
    }
   ],
   "source": [
    "benignurl = df1.sample(n=5000, random_state = 1)\n",
    "benignurl = benignurl.reset_index(drop=True)\n",
    "benignurl.head(5)"
   ]
  }
 ],
 "metadata": {
  "kernelspec": {
   "display_name": "Python 3",
   "language": "python",
   "name": "python3"
  },
  "language_info": {
   "codemirror_mode": {
    "name": "ipython",
    "version": 3
   },
   "file_extension": ".py",
   "mimetype": "text/x-python",
   "name": "python",
   "nbconvert_exporter": "python",
   "pygments_lexer": "ipython3",
   "version": "3.6.13"
  }
 },
 "nbformat": 4,
 "nbformat_minor": 5
}
